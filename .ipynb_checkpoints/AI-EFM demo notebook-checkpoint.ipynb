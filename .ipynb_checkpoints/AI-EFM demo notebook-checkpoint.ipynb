{
 "cells": [
  {
   "cell_type": "markdown",
   "metadata": {},
   "source": []
  },
  {
   "cell_type": "markdown",
   "metadata": {},
   "source": [
    "## Overview:\n",
    "\n",
    "Our lab invented a [novel microscopy technique for observing ultrafast electronic processes in extremely small samples.](https://aip.scitation.org/doi/full/10.1063/1.4948396)  This technique can observe events occurring 10,000x faster than the blink of an eye on areas 1,000x smaller than a human hair!  \n",
    "\n",
    "Unfortunately, this technique's implementation is too slow and noisy to be useful in applications; it requires an impractical amount of signal averaging and post-processing.  [Inspired by the fact that image recognition algorithms now outperform humans and can characterize signals that are too noisy for humans](https://arxiv.org/pdf/1502.03167.pdf), I developed a convolutional neural network specially designed to classify our microscope data.  By utilizing an image recognition approach to our analysis, I was able to successfully eliminate signal averaging and process the data in real time.  This speeds up our original technique's implementation by over 100x!\n",
    "\n",
    "\n",
    "## Background:\n",
    "\n",
    "Much of [my graduate school research](https://scholar.google.com/citations?user=GWKu_IoAAAAJ&hl=en) utilized atomic force microscopes (AFM).  You can think of an AFM as somewhat like a vinyl record player--there is a small needle that moves across a sample and \"feels\" the sample.  Rather than tracing these grooves and scratches and converting them into music like a record player, an AFM makes a high-resolution image of the sample based upon these tracings.  For the curious, please see the brief video below from [Wikipedia](https://en.wikipedia.org/wiki/Atomic_force_microscopy) on how an AFM operates.\n",
    "<br>\n",
    "<br>\n",
    "<video controls src=\"Atomic_Force_Microscope.ogv\" width = \"700\" />\n",
    "<br>\n",
    "<br>\n",
    "\n",
    "<br>\n",
    "\n",
    "Advanced AFM techniques often vibrate this AFM needle/tip sinusoidally.  When an electrical impulse occurs (such as a solar cell absorbing light) this sine wave evolves in time in a nonlinear manner.  __My research set out how to teach a neural network to characterize the different complicated signals recorded by our AFMs__.  By doing this, we could quickly characterize different regions of solar cells and learn how to design more efficient solar cells.\n",
    "\n",
    "## Code and Examples:"
   ]
  },
  {
   "cell_type": "code",
   "execution_count": null,
   "metadata": {},
   "outputs": [],
   "source": []
  }
 ],
 "metadata": {
  "kernelspec": {
   "display_name": "Python 3",
   "language": "python",
   "name": "python3"
  },
  "language_info": {
   "codemirror_mode": {
    "name": "ipython",
    "version": 3
   },
   "file_extension": ".py",
   "mimetype": "text/x-python",
   "name": "python",
   "nbconvert_exporter": "python",
   "pygments_lexer": "ipython3",
   "version": "3.6.4"
  }
 },
 "nbformat": 4,
 "nbformat_minor": 2
}

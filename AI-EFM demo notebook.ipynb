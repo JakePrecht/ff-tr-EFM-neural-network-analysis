{
 "cells": [
  {
   "cell_type": "markdown",
   "metadata": {},
   "source": [
    "## Overview:\n",
    "\n",
    "Our lab invented a [novel microscopy technique for observing ultrafast electronic processes in extremely small samples.](https://aip.scitation.org/doi/full/10.1063/1.4948396) This technique can observe events occurring 10,000x faster than the blink of an eye on areas 1,000x smaller than a human hair!  \n",
    "\n",
    "Unfortunately, this technique's previous implementation was too slow and noisy to be useful in real applications. __By developing an image recognition approach to our analysis, I was able to successfully eliminate signal averaging and process the data in real time.__  This speeds up our original technique's implementation by over 100x!\n",
    "\n",
    "\n",
    "## Background:\n",
    "\n",
    "Much of [my graduate school research](https://scholar.google.com/citations?user=GWKu_IoAAAAJ&hl=en) utilized an atomic force microscope (AFM).  You can think of an AFM as somewhat like a vinyl record player--there is a small needle that moves across a sample and \"feels\" the sample just like a record player tracing a needle across a record. For the curious, please see the brief video below from [Wikipedia](https://en.wikipedia.org/wiki/Atomic_force_microscopy) on how an AFM operates:\n",
    "<br>\n",
    "<br>\n",
    "<video controls src=\"Atomic_Force_Microscope.ogv\" width = \"700\" />\n",
    "<br>\n",
    "<br>\n",
    "\n",
    "<br>\n",
    "\n",
    "__My research set out to teach a neural network to characterize the different complicated signals recorded by our AFMs__.  Much like how a typical computer vision task would be to look at a picture and identify whether the image was of a cat, a dog, or a car, I taught our neural network to distinguish if our microscope image was of a good or a bad solar cell.  Note that identifying the quality of the solar cell from the microscope output is a nontrivial task for a human.  For example, this is what the raw output from the microscope looks like:\n",
    "\n",
    "#JAKE INSERT RAW DISPLACEMENT CURVE HERE\n",
    "\n",
    "Could you tell by looking at that if it was a good or a bad solar cell?\n",
    "\n",
    "Previously we utilized complicated post-processing which required costly implementation.  The neural network approach I developed bypasses all of that post-processing and instead directly outputs the relevent scientific information about the solar cell.\n",
    "\n",
    "## Code and Examples:"
   ]
  },
  {
   "cell_type": "markdown",
   "metadata": {},
   "source": [
    "## The Problem:\n",
    "\n",
    "Our lab invented a [novel microscopy technique that can observe electronic events occurring 10,000x faster than the blink of an eye on areas 1,000x smaller than a human hair!](https://aip.scitation.org/doi/full/10.1063/1.4948396) Unfortunately, this technique's previous implementation was too slow and noisy to be useful in real applications.\n",
    "\n",
    "\n",
    "## The Solution:\n",
    "\n",
    "Inspired by image recognition algorithms, I developed a machine learning-based analysis for our microscopy technique. By switching to this image recognition approach, I eliminated the extensive signal averaging and post-processing our previous technique required. These improvements sped up our original technique by over 100x and allowed for real-time data processing!\n",
    "\n",
    "\n",
    "## The More Nitty-Gritty Technical Description of The Solution:\n",
    "\n",
    "I created a convolutional neural network to characterize the raw data coming out of our microscope.\n",
    "\n",
    "I trained this neural network with one of two data sources:\n",
    "-Synthetic data I wrote custom simulation code for (see Biexp.py)\n",
    "-Experimental calibration data I collected off of the microscope\n",
    "\n",
    "I tested this neural network with a variety of different data sources.  I utilized custom metrics I designed to figure out how and why my neural network was failing during testing.\n",
    "\n",
    "I optimized my neural network's architecture and hyperparameters to give maximum accuracy and minimum run-time for testing (so that we could run the neural network in real-time with our microscope).\n",
    "\n",
    "I am currently working to generalize this machine learning approach.  Currently, the neural network must be trained on the microscope it is using that particular day.  But I have ideas for how to develop a more generalized neural network that will not require extensive neural network trainings for every single experiment.  I am happy to talk about my steps towards this in person because it is beyond the scope of discussion for this example.\n",
    "\n",
    "\n",
    "## Code and Examples:"
   ]
  },
  {
   "cell_type": "code",
   "execution_count": null,
   "metadata": {},
   "outputs": [],
   "source": []
  }
 ],
 "metadata": {
  "kernelspec": {
   "display_name": "Python 3",
   "language": "python",
   "name": "python3"
  },
  "language_info": {
   "codemirror_mode": {
    "name": "ipython",
    "version": 3
   },
   "file_extension": ".py",
   "mimetype": "text/x-python",
   "name": "python",
   "nbconvert_exporter": "python",
   "pygments_lexer": "ipython3",
   "version": "3.6.4"
  }
 },
 "nbformat": 4,
 "nbformat_minor": 2
}
